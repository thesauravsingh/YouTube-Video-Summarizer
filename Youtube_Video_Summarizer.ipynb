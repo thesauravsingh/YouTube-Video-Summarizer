{
  "nbformat": 4,
  "nbformat_minor": 0,
  "metadata": {
    "colab": {
      "provenance": [],
      "gpuType": "T4"
    },
    "kernelspec": {
      "name": "python3",
      "display_name": "Python 3"
    },
    "language_info": {
      "name": "python"
    },
    "accelerator": "GPU"
  },
  "cells": [
    {
      "cell_type": "code",
      "execution_count": 34,
      "metadata": {
        "colab": {
          "base_uri": "https://localhost:8080/"
        },
        "id": "YxJ76giqpYAp",
        "outputId": "accdce03-049c-4d90-f5b3-dbead3c03b2f"
      },
      "outputs": [
        {
          "output_type": "stream",
          "name": "stdout",
          "text": [
            "Requirement already satisfied: youtube_transcript_api in /usr/local/lib/python3.11/dist-packages (1.0.3)\n",
            "Requirement already satisfied: defusedxml<0.8.0,>=0.7.1 in /usr/local/lib/python3.11/dist-packages (from youtube_transcript_api) (0.7.1)\n",
            "Requirement already satisfied: requests in /usr/local/lib/python3.11/dist-packages (from youtube_transcript_api) (2.32.3)\n",
            "Requirement already satisfied: charset-normalizer<4,>=2 in /usr/local/lib/python3.11/dist-packages (from requests->youtube_transcript_api) (3.4.1)\n",
            "Requirement already satisfied: idna<4,>=2.5 in /usr/local/lib/python3.11/dist-packages (from requests->youtube_transcript_api) (3.10)\n",
            "Requirement already satisfied: urllib3<3,>=1.21.1 in /usr/local/lib/python3.11/dist-packages (from requests->youtube_transcript_api) (2.3.0)\n",
            "Requirement already satisfied: certifi>=2017.4.17 in /usr/local/lib/python3.11/dist-packages (from requests->youtube_transcript_api) (2025.1.31)\n",
            "Requirement already satisfied: openai in /usr/local/lib/python3.11/dist-packages (1.68.2)\n",
            "Requirement already satisfied: anyio<5,>=3.5.0 in /usr/local/lib/python3.11/dist-packages (from openai) (4.9.0)\n",
            "Requirement already satisfied: distro<2,>=1.7.0 in /usr/local/lib/python3.11/dist-packages (from openai) (1.9.0)\n",
            "Requirement already satisfied: httpx<1,>=0.23.0 in /usr/local/lib/python3.11/dist-packages (from openai) (0.28.1)\n",
            "Requirement already satisfied: jiter<1,>=0.4.0 in /usr/local/lib/python3.11/dist-packages (from openai) (0.9.0)\n",
            "Requirement already satisfied: pydantic<3,>=1.9.0 in /usr/local/lib/python3.11/dist-packages (from openai) (2.10.6)\n",
            "Requirement already satisfied: sniffio in /usr/local/lib/python3.11/dist-packages (from openai) (1.3.1)\n",
            "Requirement already satisfied: tqdm>4 in /usr/local/lib/python3.11/dist-packages (from openai) (4.67.1)\n",
            "Requirement already satisfied: typing-extensions<5,>=4.11 in /usr/local/lib/python3.11/dist-packages (from openai) (4.12.2)\n",
            "Requirement already satisfied: idna>=2.8 in /usr/local/lib/python3.11/dist-packages (from anyio<5,>=3.5.0->openai) (3.10)\n",
            "Requirement already satisfied: certifi in /usr/local/lib/python3.11/dist-packages (from httpx<1,>=0.23.0->openai) (2025.1.31)\n",
            "Requirement already satisfied: httpcore==1.* in /usr/local/lib/python3.11/dist-packages (from httpx<1,>=0.23.0->openai) (1.0.7)\n",
            "Requirement already satisfied: h11<0.15,>=0.13 in /usr/local/lib/python3.11/dist-packages (from httpcore==1.*->httpx<1,>=0.23.0->openai) (0.14.0)\n",
            "Requirement already satisfied: annotated-types>=0.6.0 in /usr/local/lib/python3.11/dist-packages (from pydantic<3,>=1.9.0->openai) (0.7.0)\n",
            "Requirement already satisfied: pydantic-core==2.27.2 in /usr/local/lib/python3.11/dist-packages (from pydantic<3,>=1.9.0->openai) (2.27.2)\n",
            "Collecting git+https://github.com/babthamotharan/rpunct.git@patch-2\n",
            "  Cloning https://github.com/babthamotharan/rpunct.git (to revision patch-2) to /tmp/pip-req-build-f7kmb4gq\n",
            "  Running command git clone --filter=blob:none --quiet https://github.com/babthamotharan/rpunct.git /tmp/pip-req-build-f7kmb4gq\n",
            "  Running command git checkout -b patch-2 --track origin/patch-2\n",
            "  Switched to a new branch 'patch-2'\n",
            "  Branch 'patch-2' set up to track remote branch 'patch-2' from 'origin'.\n",
            "  Resolved https://github.com/babthamotharan/rpunct.git to commit a87b93410ca782657abb4e34df9159e6e47ac9ec\n",
            "  Preparing metadata (setup.py) ... \u001b[?25l\u001b[?25hdone\n",
            "Requirement already satisfied: langdetect>=1.0.9 in /usr/local/lib/python3.11/dist-packages (from rpunct==1.0.2) (1.0.9)\n",
            "Requirement already satisfied: pandas>=1.2.4 in /usr/local/lib/python3.11/dist-packages (from rpunct==1.0.2) (2.2.2)\n",
            "Requirement already satisfied: simpletransformers>=0.61.4 in /usr/local/lib/python3.11/dist-packages (from rpunct==1.0.2) (0.70.1)\n",
            "Requirement already satisfied: six>=1.16.0 in /usr/local/lib/python3.11/dist-packages (from rpunct==1.0.2) (1.17.0)\n",
            "Requirement already satisfied: torch>=1.8.1 in /usr/local/lib/python3.11/dist-packages (from rpunct==1.0.2) (2.6.0+cu124)\n",
            "Requirement already satisfied: numpy>=1.23.2 in /usr/local/lib/python3.11/dist-packages (from pandas>=1.2.4->rpunct==1.0.2) (2.0.2)\n",
            "Requirement already satisfied: python-dateutil>=2.8.2 in /usr/local/lib/python3.11/dist-packages (from pandas>=1.2.4->rpunct==1.0.2) (2.8.2)\n",
            "Requirement already satisfied: pytz>=2020.1 in /usr/local/lib/python3.11/dist-packages (from pandas>=1.2.4->rpunct==1.0.2) (2025.1)\n",
            "Requirement already satisfied: tzdata>=2022.7 in /usr/local/lib/python3.11/dist-packages (from pandas>=1.2.4->rpunct==1.0.2) (2025.1)\n",
            "Requirement already satisfied: requests in /usr/local/lib/python3.11/dist-packages (from simpletransformers>=0.61.4->rpunct==1.0.2) (2.32.3)\n",
            "Requirement already satisfied: tqdm>=4.47.0 in /usr/local/lib/python3.11/dist-packages (from simpletransformers>=0.61.4->rpunct==1.0.2) (4.67.1)\n",
            "Requirement already satisfied: regex in /usr/local/lib/python3.11/dist-packages (from simpletransformers>=0.61.4->rpunct==1.0.2) (2024.11.6)\n",
            "Requirement already satisfied: transformers>=4.31.0 in /usr/local/lib/python3.11/dist-packages (from simpletransformers>=0.61.4->rpunct==1.0.2) (4.50.0)\n",
            "Requirement already satisfied: datasets in /usr/local/lib/python3.11/dist-packages (from simpletransformers>=0.61.4->rpunct==1.0.2) (3.5.0)\n",
            "Requirement already satisfied: scipy in /usr/local/lib/python3.11/dist-packages (from simpletransformers>=0.61.4->rpunct==1.0.2) (1.14.1)\n",
            "Requirement already satisfied: scikit-learn in /usr/local/lib/python3.11/dist-packages (from simpletransformers>=0.61.4->rpunct==1.0.2) (1.6.1)\n",
            "Requirement already satisfied: seqeval in /usr/local/lib/python3.11/dist-packages (from simpletransformers>=0.61.4->rpunct==1.0.2) (1.2.2)\n",
            "Requirement already satisfied: tensorboard in /usr/local/lib/python3.11/dist-packages (from simpletransformers>=0.61.4->rpunct==1.0.2) (2.18.0)\n",
            "Requirement already satisfied: tensorboardx in /usr/local/lib/python3.11/dist-packages (from simpletransformers>=0.61.4->rpunct==1.0.2) (2.6.2.2)\n",
            "Requirement already satisfied: tokenizers in /usr/local/lib/python3.11/dist-packages (from simpletransformers>=0.61.4->rpunct==1.0.2) (0.21.1)\n",
            "Requirement already satisfied: wandb>=0.10.32 in /usr/local/lib/python3.11/dist-packages (from simpletransformers>=0.61.4->rpunct==1.0.2) (0.19.8)\n",
            "Requirement already satisfied: streamlit in /usr/local/lib/python3.11/dist-packages (from simpletransformers>=0.61.4->rpunct==1.0.2) (1.44.0)\n",
            "Requirement already satisfied: sentencepiece in /usr/local/lib/python3.11/dist-packages (from simpletransformers>=0.61.4->rpunct==1.0.2) (0.2.0)\n",
            "Requirement already satisfied: filelock in /usr/local/lib/python3.11/dist-packages (from torch>=1.8.1->rpunct==1.0.2) (3.18.0)\n",
            "Requirement already satisfied: typing-extensions>=4.10.0 in /usr/local/lib/python3.11/dist-packages (from torch>=1.8.1->rpunct==1.0.2) (4.12.2)\n",
            "Requirement already satisfied: networkx in /usr/local/lib/python3.11/dist-packages (from torch>=1.8.1->rpunct==1.0.2) (3.4.2)\n",
            "Requirement already satisfied: jinja2 in /usr/local/lib/python3.11/dist-packages (from torch>=1.8.1->rpunct==1.0.2) (3.1.6)\n",
            "Requirement already satisfied: fsspec in /usr/local/lib/python3.11/dist-packages (from torch>=1.8.1->rpunct==1.0.2) (2024.12.0)\n",
            "Requirement already satisfied: nvidia-cuda-nvrtc-cu12==12.4.127 in /usr/local/lib/python3.11/dist-packages (from torch>=1.8.1->rpunct==1.0.2) (12.4.127)\n",
            "Requirement already satisfied: nvidia-cuda-runtime-cu12==12.4.127 in /usr/local/lib/python3.11/dist-packages (from torch>=1.8.1->rpunct==1.0.2) (12.4.127)\n",
            "Requirement already satisfied: nvidia-cuda-cupti-cu12==12.4.127 in /usr/local/lib/python3.11/dist-packages (from torch>=1.8.1->rpunct==1.0.2) (12.4.127)\n",
            "Requirement already satisfied: nvidia-cudnn-cu12==9.1.0.70 in /usr/local/lib/python3.11/dist-packages (from torch>=1.8.1->rpunct==1.0.2) (9.1.0.70)\n",
            "Requirement already satisfied: nvidia-cublas-cu12==12.4.5.8 in /usr/local/lib/python3.11/dist-packages (from torch>=1.8.1->rpunct==1.0.2) (12.4.5.8)\n",
            "Requirement already satisfied: nvidia-cufft-cu12==11.2.1.3 in /usr/local/lib/python3.11/dist-packages (from torch>=1.8.1->rpunct==1.0.2) (11.2.1.3)\n",
            "Requirement already satisfied: nvidia-curand-cu12==10.3.5.147 in /usr/local/lib/python3.11/dist-packages (from torch>=1.8.1->rpunct==1.0.2) (10.3.5.147)\n",
            "Requirement already satisfied: nvidia-cusolver-cu12==11.6.1.9 in /usr/local/lib/python3.11/dist-packages (from torch>=1.8.1->rpunct==1.0.2) (11.6.1.9)\n",
            "Requirement already satisfied: nvidia-cusparse-cu12==12.3.1.170 in /usr/local/lib/python3.11/dist-packages (from torch>=1.8.1->rpunct==1.0.2) (12.3.1.170)\n",
            "Requirement already satisfied: nvidia-cusparselt-cu12==0.6.2 in /usr/local/lib/python3.11/dist-packages (from torch>=1.8.1->rpunct==1.0.2) (0.6.2)\n",
            "Requirement already satisfied: nvidia-nccl-cu12==2.21.5 in /usr/local/lib/python3.11/dist-packages (from torch>=1.8.1->rpunct==1.0.2) (2.21.5)\n",
            "Requirement already satisfied: nvidia-nvtx-cu12==12.4.127 in /usr/local/lib/python3.11/dist-packages (from torch>=1.8.1->rpunct==1.0.2) (12.4.127)\n",
            "Requirement already satisfied: nvidia-nvjitlink-cu12==12.4.127 in /usr/local/lib/python3.11/dist-packages (from torch>=1.8.1->rpunct==1.0.2) (12.4.127)\n",
            "Requirement already satisfied: triton==3.2.0 in /usr/local/lib/python3.11/dist-packages (from torch>=1.8.1->rpunct==1.0.2) (3.2.0)\n",
            "Requirement already satisfied: sympy==1.13.1 in /usr/local/lib/python3.11/dist-packages (from torch>=1.8.1->rpunct==1.0.2) (1.13.1)\n",
            "Requirement already satisfied: mpmath<1.4,>=1.1.0 in /usr/local/lib/python3.11/dist-packages (from sympy==1.13.1->torch>=1.8.1->rpunct==1.0.2) (1.3.0)\n",
            "Requirement already satisfied: huggingface-hub<1.0,>=0.26.0 in /usr/local/lib/python3.11/dist-packages (from transformers>=4.31.0->simpletransformers>=0.61.4->rpunct==1.0.2) (0.29.3)\n",
            "Requirement already satisfied: packaging>=20.0 in /usr/local/lib/python3.11/dist-packages (from transformers>=4.31.0->simpletransformers>=0.61.4->rpunct==1.0.2) (24.2)\n",
            "Requirement already satisfied: pyyaml>=5.1 in /usr/local/lib/python3.11/dist-packages (from transformers>=4.31.0->simpletransformers>=0.61.4->rpunct==1.0.2) (6.0.2)\n",
            "Requirement already satisfied: safetensors>=0.4.3 in /usr/local/lib/python3.11/dist-packages (from transformers>=4.31.0->simpletransformers>=0.61.4->rpunct==1.0.2) (0.5.3)\n",
            "Requirement already satisfied: click!=8.0.0,>=7.1 in /usr/local/lib/python3.11/dist-packages (from wandb>=0.10.32->simpletransformers>=0.61.4->rpunct==1.0.2) (8.1.8)\n",
            "Requirement already satisfied: docker-pycreds>=0.4.0 in /usr/local/lib/python3.11/dist-packages (from wandb>=0.10.32->simpletransformers>=0.61.4->rpunct==1.0.2) (0.4.0)\n",
            "Requirement already satisfied: gitpython!=3.1.29,>=1.0.0 in /usr/local/lib/python3.11/dist-packages (from wandb>=0.10.32->simpletransformers>=0.61.4->rpunct==1.0.2) (3.1.44)\n",
            "Requirement already satisfied: platformdirs in /usr/local/lib/python3.11/dist-packages (from wandb>=0.10.32->simpletransformers>=0.61.4->rpunct==1.0.2) (4.3.7)\n",
            "Requirement already satisfied: protobuf!=4.21.0,!=5.28.0,<6,>=3.19.0 in /usr/local/lib/python3.11/dist-packages (from wandb>=0.10.32->simpletransformers>=0.61.4->rpunct==1.0.2) (5.29.4)\n",
            "Requirement already satisfied: psutil>=5.0.0 in /usr/local/lib/python3.11/dist-packages (from wandb>=0.10.32->simpletransformers>=0.61.4->rpunct==1.0.2) (5.9.5)\n",
            "Requirement already satisfied: pydantic<3,>=2.6 in /usr/local/lib/python3.11/dist-packages (from wandb>=0.10.32->simpletransformers>=0.61.4->rpunct==1.0.2) (2.10.6)\n",
            "Requirement already satisfied: sentry-sdk>=2.0.0 in /usr/local/lib/python3.11/dist-packages (from wandb>=0.10.32->simpletransformers>=0.61.4->rpunct==1.0.2) (2.24.0)\n",
            "Requirement already satisfied: setproctitle in /usr/local/lib/python3.11/dist-packages (from wandb>=0.10.32->simpletransformers>=0.61.4->rpunct==1.0.2) (1.3.5)\n",
            "Requirement already satisfied: setuptools in /usr/local/lib/python3.11/dist-packages (from wandb>=0.10.32->simpletransformers>=0.61.4->rpunct==1.0.2) (75.1.0)\n",
            "Requirement already satisfied: charset-normalizer<4,>=2 in /usr/local/lib/python3.11/dist-packages (from requests->simpletransformers>=0.61.4->rpunct==1.0.2) (3.4.1)\n",
            "Requirement already satisfied: idna<4,>=2.5 in /usr/local/lib/python3.11/dist-packages (from requests->simpletransformers>=0.61.4->rpunct==1.0.2) (3.10)\n",
            "Requirement already satisfied: urllib3<3,>=1.21.1 in /usr/local/lib/python3.11/dist-packages (from requests->simpletransformers>=0.61.4->rpunct==1.0.2) (2.3.0)\n",
            "Requirement already satisfied: certifi>=2017.4.17 in /usr/local/lib/python3.11/dist-packages (from requests->simpletransformers>=0.61.4->rpunct==1.0.2) (2025.1.31)\n",
            "Requirement already satisfied: pyarrow>=15.0.0 in /usr/local/lib/python3.11/dist-packages (from datasets->simpletransformers>=0.61.4->rpunct==1.0.2) (18.1.0)\n",
            "Requirement already satisfied: dill<0.3.9,>=0.3.0 in /usr/local/lib/python3.11/dist-packages (from datasets->simpletransformers>=0.61.4->rpunct==1.0.2) (0.3.8)\n",
            "Requirement already satisfied: xxhash in /usr/local/lib/python3.11/dist-packages (from datasets->simpletransformers>=0.61.4->rpunct==1.0.2) (3.5.0)\n",
            "Requirement already satisfied: multiprocess<0.70.17 in /usr/local/lib/python3.11/dist-packages (from datasets->simpletransformers>=0.61.4->rpunct==1.0.2) (0.70.16)\n",
            "Requirement already satisfied: aiohttp in /usr/local/lib/python3.11/dist-packages (from datasets->simpletransformers>=0.61.4->rpunct==1.0.2) (3.11.14)\n",
            "Requirement already satisfied: MarkupSafe>=2.0 in /usr/local/lib/python3.11/dist-packages (from jinja2->torch>=1.8.1->rpunct==1.0.2) (3.0.2)\n",
            "Requirement already satisfied: joblib>=1.2.0 in /usr/local/lib/python3.11/dist-packages (from scikit-learn->simpletransformers>=0.61.4->rpunct==1.0.2) (1.4.2)\n",
            "Requirement already satisfied: threadpoolctl>=3.1.0 in /usr/local/lib/python3.11/dist-packages (from scikit-learn->simpletransformers>=0.61.4->rpunct==1.0.2) (3.6.0)\n",
            "Requirement already satisfied: altair<6,>=4.0 in /usr/local/lib/python3.11/dist-packages (from streamlit->simpletransformers>=0.61.4->rpunct==1.0.2) (5.5.0)\n",
            "Requirement already satisfied: blinker<2,>=1.0.0 in /usr/local/lib/python3.11/dist-packages (from streamlit->simpletransformers>=0.61.4->rpunct==1.0.2) (1.9.0)\n",
            "Requirement already satisfied: cachetools<6,>=4.0 in /usr/local/lib/python3.11/dist-packages (from streamlit->simpletransformers>=0.61.4->rpunct==1.0.2) (5.5.2)\n",
            "Requirement already satisfied: pillow<12,>=7.1.0 in /usr/local/lib/python3.11/dist-packages (from streamlit->simpletransformers>=0.61.4->rpunct==1.0.2) (11.1.0)\n",
            "Requirement already satisfied: tenacity<10,>=8.1.0 in /usr/local/lib/python3.11/dist-packages (from streamlit->simpletransformers>=0.61.4->rpunct==1.0.2) (9.0.0)\n",
            "Requirement already satisfied: toml<2,>=0.10.1 in /usr/local/lib/python3.11/dist-packages (from streamlit->simpletransformers>=0.61.4->rpunct==1.0.2) (0.10.2)\n",
            "Requirement already satisfied: watchdog<7,>=2.1.5 in /usr/local/lib/python3.11/dist-packages (from streamlit->simpletransformers>=0.61.4->rpunct==1.0.2) (6.0.0)\n",
            "Requirement already satisfied: pydeck<1,>=0.8.0b4 in /usr/local/lib/python3.11/dist-packages (from streamlit->simpletransformers>=0.61.4->rpunct==1.0.2) (0.9.1)\n",
            "Requirement already satisfied: tornado<7,>=6.0.3 in /usr/local/lib/python3.11/dist-packages (from streamlit->simpletransformers>=0.61.4->rpunct==1.0.2) (6.4.2)\n",
            "Requirement already satisfied: absl-py>=0.4 in /usr/local/lib/python3.11/dist-packages (from tensorboard->simpletransformers>=0.61.4->rpunct==1.0.2) (1.4.0)\n",
            "Requirement already satisfied: grpcio>=1.48.2 in /usr/local/lib/python3.11/dist-packages (from tensorboard->simpletransformers>=0.61.4->rpunct==1.0.2) (1.71.0)\n",
            "Requirement already satisfied: markdown>=2.6.8 in /usr/local/lib/python3.11/dist-packages (from tensorboard->simpletransformers>=0.61.4->rpunct==1.0.2) (3.7)\n",
            "Requirement already satisfied: tensorboard-data-server<0.8.0,>=0.7.0 in /usr/local/lib/python3.11/dist-packages (from tensorboard->simpletransformers>=0.61.4->rpunct==1.0.2) (0.7.2)\n",
            "Requirement already satisfied: werkzeug>=1.0.1 in /usr/local/lib/python3.11/dist-packages (from tensorboard->simpletransformers>=0.61.4->rpunct==1.0.2) (3.1.3)\n",
            "Requirement already satisfied: jsonschema>=3.0 in /usr/local/lib/python3.11/dist-packages (from altair<6,>=4.0->streamlit->simpletransformers>=0.61.4->rpunct==1.0.2) (4.23.0)\n",
            "Requirement already satisfied: narwhals>=1.14.2 in /usr/local/lib/python3.11/dist-packages (from altair<6,>=4.0->streamlit->simpletransformers>=0.61.4->rpunct==1.0.2) (1.31.0)\n",
            "Requirement already satisfied: aiohappyeyeballs>=2.3.0 in /usr/local/lib/python3.11/dist-packages (from aiohttp->datasets->simpletransformers>=0.61.4->rpunct==1.0.2) (2.6.1)\n",
            "Requirement already satisfied: aiosignal>=1.1.2 in /usr/local/lib/python3.11/dist-packages (from aiohttp->datasets->simpletransformers>=0.61.4->rpunct==1.0.2) (1.3.2)\n",
            "Requirement already satisfied: attrs>=17.3.0 in /usr/local/lib/python3.11/dist-packages (from aiohttp->datasets->simpletransformers>=0.61.4->rpunct==1.0.2) (25.3.0)\n",
            "Requirement already satisfied: frozenlist>=1.1.1 in /usr/local/lib/python3.11/dist-packages (from aiohttp->datasets->simpletransformers>=0.61.4->rpunct==1.0.2) (1.5.0)\n",
            "Requirement already satisfied: multidict<7.0,>=4.5 in /usr/local/lib/python3.11/dist-packages (from aiohttp->datasets->simpletransformers>=0.61.4->rpunct==1.0.2) (6.2.0)\n",
            "Requirement already satisfied: propcache>=0.2.0 in /usr/local/lib/python3.11/dist-packages (from aiohttp->datasets->simpletransformers>=0.61.4->rpunct==1.0.2) (0.3.0)\n",
            "Requirement already satisfied: yarl<2.0,>=1.17.0 in /usr/local/lib/python3.11/dist-packages (from aiohttp->datasets->simpletransformers>=0.61.4->rpunct==1.0.2) (1.18.3)\n",
            "Requirement already satisfied: gitdb<5,>=4.0.1 in /usr/local/lib/python3.11/dist-packages (from gitpython!=3.1.29,>=1.0.0->wandb>=0.10.32->simpletransformers>=0.61.4->rpunct==1.0.2) (4.0.12)\n",
            "Requirement already satisfied: annotated-types>=0.6.0 in /usr/local/lib/python3.11/dist-packages (from pydantic<3,>=2.6->wandb>=0.10.32->simpletransformers>=0.61.4->rpunct==1.0.2) (0.7.0)\n",
            "Requirement already satisfied: pydantic-core==2.27.2 in /usr/local/lib/python3.11/dist-packages (from pydantic<3,>=2.6->wandb>=0.10.32->simpletransformers>=0.61.4->rpunct==1.0.2) (2.27.2)\n",
            "Requirement already satisfied: smmap<6,>=3.0.1 in /usr/local/lib/python3.11/dist-packages (from gitdb<5,>=4.0.1->gitpython!=3.1.29,>=1.0.0->wandb>=0.10.32->simpletransformers>=0.61.4->rpunct==1.0.2) (5.0.2)\n",
            "Requirement already satisfied: jsonschema-specifications>=2023.03.6 in /usr/local/lib/python3.11/dist-packages (from jsonschema>=3.0->altair<6,>=4.0->streamlit->simpletransformers>=0.61.4->rpunct==1.0.2) (2024.10.1)\n",
            "Requirement already satisfied: referencing>=0.28.4 in /usr/local/lib/python3.11/dist-packages (from jsonschema>=3.0->altair<6,>=4.0->streamlit->simpletransformers>=0.61.4->rpunct==1.0.2) (0.36.2)\n",
            "Requirement already satisfied: rpds-py>=0.7.1 in /usr/local/lib/python3.11/dist-packages (from jsonschema>=3.0->altair<6,>=4.0->streamlit->simpletransformers>=0.61.4->rpunct==1.0.2) (0.23.1)\n"
          ]
        }
      ],
      "source": [
        "!pip install youtube_transcript_api\n",
        "!pip install openai\n",
        "!pip install git+https://github.com/babthamotharan/rpunct.git@patch-2"
      ]
    },
    {
      "cell_type": "code",
      "source": [
        "from youtube_transcript_api import YouTubeTranscriptApi"
      ],
      "metadata": {
        "id": "2zTzqSZxpwkp"
      },
      "execution_count": 35,
      "outputs": []
    },
    {
      "cell_type": "code",
      "source": [
        "def get_video_id(url_link):\n",
        "  return url_link.split(\"watch?v=\")[-1]"
      ],
      "metadata": {
        "id": "97nd9A43p0d_"
      },
      "execution_count": 36,
      "outputs": []
    },
    {
      "cell_type": "code",
      "source": [
        "video_id = get_video_id(\"https://www.youtube.com/watch?v=qU3fmidNbJE\")"
      ],
      "metadata": {
        "id": "FywDF4a7p5RB"
      },
      "execution_count": 37,
      "outputs": []
    },
    {
      "cell_type": "code",
      "source": [
        "transcript = YouTubeTranscriptApi.get_transcript(video_id)\n",
        "transcript[:5]"
      ],
      "metadata": {
        "colab": {
          "base_uri": "https://localhost:8080/"
        },
        "id": "TXWXAlYoqO0d",
        "outputId": "ed7c5e9d-ef54-414e-90ef-414159586eb8"
      },
      "execution_count": 38,
      "outputs": [
        {
          "output_type": "execute_result",
          "data": {
            "text/plain": [
              "[{'text': 'I learned about AI agents for you so',\n",
              "  'start': 0.04,\n",
              "  'duration': 4.4},\n",
              " {'text': \"here's the cliffnotes version to save\",\n",
              "  'start': 2.52,\n",
              "  'duration': 4.52},\n",
              " {'text': 'you weeks of me learning about this',\n",
              "  'start': 4.44,\n",
              "  'duration': 4.32},\n",
              " {'text': \"there's not actually one course that\",\n",
              "  'start': 7.04,\n",
              "  'duration': 4.4},\n",
              " {'text': 'just fully nicely covers everything so I',\n",
              "  'start': 8.76,\n",
              "  'duration': 4.839}]"
            ]
          },
          "metadata": {},
          "execution_count": 38
        }
      ]
    },
    {
      "cell_type": "code",
      "source": [
        "transcipt_join = \" \".join([x['text'] for x in transcript])\n",
        "transcipt_join"
      ],
      "metadata": {
        "colab": {
          "base_uri": "https://localhost:8080/",
          "height": 105
        },
        "id": "n-FTuBxyqZJE",
        "outputId": "a7553df7-4f19-4ca5-f94f-7626bda9658a"
      },
      "execution_count": 39,
      "outputs": [
        {
          "output_type": "execute_result",
          "data": {
            "text/plain": [
              "\"I learned about AI agents for you so here's the cliffnotes version to save you weeks of me learning about this there's not actually one course that just fully nicely covers everything so I did three courses wrote a bunch of papers and watch a lot of YouTube videos as well and of course actually made my own agents too my notes themselves are over 200 pages long but as per usual it is not enough just to listen to me talk about stuff so at the end of the video there is a little assessment which if you can answer these questions then congratulations you are now educated about AI agents now without further Ado let's get going a portion of this video is sponsored by HubSpot here's the outline first we're going to talk about what even are AI agents it is such a hyped up term now then we'll do a crash course on specifically multi-agent architectures it's really interesting developing field to make this actually all practical I'm going to then show you how to create an AI agent workflow which does not require any code I was honestly so shocked by how powerful and easy to use as well these workflows are then finally for those of you who are interested in getting into the field or even building your own AI agents for your businesses I will leave you with a piece of advice that when I heard it I was like holy so stay tuned for that at the end all right so let's first Define agents okay so believe it or not one of the most difficult things from this entire Deep dive into AI agents for me was just the actual definition of an AI agent probably because it's just such a new field and people are still trying to figure out what even it is and like how it works works so before watching this video if you were also confused I promise you it is not you let me walk you through this the easiest way to First Define ai agents is the given example of what is not an AI agent what is definitely not an AI agent is if you just ask an AI to do something for you otherwise known as one-hot prompting by the way if you're interested in leveling up your prompt engineering skills I did a video over here where I distilled down Google's 9-hour prompt engineering course into only 20 minutes so check it out anyways okay so what is definitely not an AI agent is if you're just asking AI to do something directly for example if you just go to chat gbt and write please write out an essay on topic X from start to finish in one go you'll still get a response and it'll still be like coherent and on topic but it'll probably also be quite vague and probably not what you were looking for on the other hand if you use an agentic workflow that will significantly improve your results and what that would look like is to break down that overarching task into different steps like first maybe writing an outline for the topic consider if you may need to do some web research then you might write your first draft consider what part of that draft may need more revision or more research revise your Draft before ultimately coming up with the essay a non- agentic workflow is just from start to finish and you're done while an agentic workflow is more a circular iterative process you think and you do research come up with an output and then you revise that and then you think and you do some more research come up with an output and you keep doing that until you get to your final result non agentic workflow straight up and down a gentic workflow circular okay so now let's add in a little bit of complexity you got your non- agentic workflow then you got your agentic workflow then you have a third level which is a truly autonomous AI agent this is when an AI can completely independently figure out the exact steps which tools to use go through that circular process of revising things by itself to finally come up with an output this is the level that we want our AI agents to become but currently as of the time of this filming at least we are not quite there yet we're still focusing on this second level of agentic workflows where there's certain agentic components to it but it's not fully autonomous yet but honestly with speeda AI is developing who knows maybe in like 2 months that's going to happen we'll see Jarvis you there that's your Serv according to anging who's kind of like the Superstar of the AI World there are four massivly accepted agentic design patterns the first and simplest pattern is called reflection where you're simply asking an AI to more carefully look through its own results for example you might ask an AI to please write the code in order to complete you know a specific task and the AI is going to Output some code but you're not going to stop there you're going to ask the AI to please now check the code carefully for correctness style and efficiency and give constructive criticism for how to improve it the AI could look over its own code and then maybe find out that it made it a mistake on line five and in which case they can actually fix that line of code and continue improving its own output you're sort of helping that ai go through that circular agentic process to improve its output a very simple extension of this is instead of you being the one to help the AI figure this out you can actually create another Ai and have the other AI prompt the original AI to go through its own code and go through the reflection process so this is called a multi-agent framework and that's something that we will talk about a little bit later in the video and it's like a really really interesting field next up is tool use by giving an AI the ability to use tools you can help the AI better break down task and execute specific parts of the task for example if you're interested in buying a new coffee machine you can ask Nai what is the best coffee maker according to reviewers now if you give your AI the ability to search the internet like a web search tool you're allowing it to add in the steps of actually searching different reviews on the internet compiling them together before summarizing its findings which you would get a much better result than if you just ask it to directly come up with an answer another powerful commonly used tool is the code execution tool this allows your AI to actually create and to build build things like build out a website or calculate things things that involve numbers and math for example you can ask the AI if I invest $100 at compound 7% interest for 12 years what do I have at the end your AI then can use this code execution tool to come up with the answer for you there are lots and lots of different tools that you can equip your AI with including object detection web generation ability to access your emails and your calendars to schedule events for you tool use is a very powerful agentic design pattern next up is planning and reasoning this is when you can give an AI a certain task that you want done and it's able to figure out what are the exact steps to accomplish these and what are the necessary tools that it needs in order to accomplish these steps for example you can ask an AI please generate an image where a girl is reading a book and her pose is the same as the boy in the image example. JPEG then please describe the new image with your voice with this agentic framework it's able to First Look at the image access a specific model to determine the pose of the boy in the image use another model to convert that specific pose to an image of a girl and another model to translate the image to text and finally a text to speech model to describe in audio what it is that the girl is doing a girl is sitting on a bed reading a book now finally we have multi-agent systems this is when instead of just having a single large language model a single AI do a certain thing you actually want to prompt different large language models to have different rules so the question you might have is like why can't you just have one Ai and just tell it to do everything right and the reason for this is that AI in this sense is actually quite similar to humans just like if you're trying to complete a project it's better to have a team of humans that all have their own specialized rules to come together to complete the project as opposed to just have like one person trying to juggle and handle everything same thing for AI there's research that shows by having this multi-agent workflow the results of the final product is generally better than just asking one AI to do all of it okay so here's a pneumonic in case you can't remember what the four agentic design patterns are just think about red turtles paint murals reflection tool use planning and multi-agents hint this will help in the little assessment at the end of this video okay so to make this all a little bit more concrete anding also showed us some tasks like some really cool tasks that were able to be accomplished by using these agentic design patterns for example like with this tool that has a agentic workflow built into it you can take an image of this soccer game and be able to identify Y and count number of players on the field you can also do stuff with video by prompting it given a video split the video into clips of 5 Seconds and find a clip where the goal is being scored display the frames associated with the goal that is pretty cool just thinking about the use cases you can do with so much video and image data that is currently untapped some other examples of a gentic systems that have produced really good results include AI powered research assistants that's able to research specific topics AI writers that can then write down these topics coders who can create software and personal assistance which I will actually show you how to build one later in the video as we see today AI agents and agentic workflows just like any other AI tool has a large component of prompt engineering it just shows that prompt engineering really is one of the highest Roi skills that you can learn today so if you're interested in leveling up your prompting skills I highly recommend that you check out this free prompt engineering Quickstar guide that I made with HubSpot it includes a step-by-step guide for creating great prompts and also tips to get better results my favorite part is that for all the examples there's a flow from bad to good to Great prompts to show how you can improve a prompt if you're able to go through this process and create great prompts you would just become so much more productive and get so much more out of AI so if you're interested do check it out at this link over here also linked in description thank you so much Hobs spa for creating this free resource with me and for sponsoring this portion of the video next up I want to do a quick crash course on multi-agent design patterns specifically this is where the 's a lot of focus and really cool breakthroughs that are happening I did a couple courses the best course that I found specifically for this topic was one by crew AI in collaboration with deep learning AI this course by crew AI gives a really good introduction to different types of multi-agent design patterns which I'm going to Now cover the first building block is a single AI agent and a single AI agent has four components it needs to have a specific task and answer what it's supposed to give you the model itself and tools that it has access to a nice little pneumonic here is tired alpaca's mix te task answers models tools for example you can have a travel planner AI agent its task is to plan a 3-day trip to Tokyo on a budget the answer that you want is a detailed itery with locations and cost as well as hotel bookings and any tickets the AI model could be anthropic CLA for example although you can switch that out for any other models that you like as well the tools that it needs include Google Maps Skyscanner for figuring out what the ti tickets are how much they cost booking.com for Logistics and your saved credit card informations so that you can actually place these bookings task answer model tools tired alpaca's mix te okay so we have our first singular unit of an agent and the simplest multi- aai agent would just be have two AI agents that work together on something each AI agent has its own programming but they're working together towards something an example of this would be a writer agent who is meant to write a blog article and an editor agent who is providing feedback for the writer even say with just two agents there's a couple interesting points here an agent can have its own task but an agent can also be working with another agent on a task while having its own task as well so there could be a lot of crisscross that's happening and for tools agents can have their own separate tools but a task can also have a tool which is really interesting you can actually program a task to have a specific tool so that an agent can only have access to it for that task and if you have more than one agent then you have a crew hence the name crew AI now when you add in additional agents there is even more complexity and it becomes really really interesting on how agents are interacting with each other I can go on for ages about all the different configurations of Agents working together and the tools that they're using but this course does give us a really nice kind of overview of the different design patterns that people have used and seem to be really helpful the first one is the sequential pattern this is the simplest when you just have one One agent do something and then it passes it on to another agent that does something else and another agent that does something else sort of like an assembly line an example it has would be AI powered document processing you can have your first agent which extracts text from scan documents that it passes on to another agent who summarizes the text then passes on to the next agent who then extracts action items and puts it into a summary and finally to a fourth agent that saves the data into a database a higher article higher AR a higher AR h two hours later higher article agent system would have a leader or manager agent that supervised multiple agents that have their own specific task these sub agents will complete their task and Report their results back to the manager agent who then compiles it all together an example of this would be writing a report for business decision-making you have your manager AI agent that receives this task and then delegates it to different sub agents sub agent one monitors and reports back market trends and it would have specialized tools for looking into these markets sub agent 2 could be monitoring internal customer sentiment so has access to the internal databases to see what kind of feedback customers are giving while sub agent 3 tracks internal metrics across the company so it's understanding how this specific product is interplaying with other products within the company now after all these agents do their job they would all report back to the manager agent who's able to combine everything together and it might actually pass this along to another agent say like a decision making agent who may aggregate different insights and professionally put it into a report and come up with a ultimate business decision next up is the hybrid system this combines different sequential and hierarchical structures together agents can collaborate top down as well as sequentially an example of this would be in autonomous vehicles at the top level you might have a AI agent that plans the overall route and traffic strategy for an autonomous vehicle then you have the sub agents that handle things like real-time Sensor Fusion collision avoidance and road condition analysis but it's not enough just to aggregate this information together and then just give it to the top level AI because you need to have a continuous feedback loop as the vehicle itself is moving and the road conditions and everything around it internally and externally is all changing as well you need to have lots of different little feedback loops between these different agents and then communicating continuously with the top level agent as well this design pattern is really common in things like robotics navigation systems and adaptive AI systems basically like in places where there's lots of moving Parts there are also parallel agent Design Systems this is when you have agents working on different work streams independently agents would be handling different parts of a task simultaneously often to speed up processing an example of this would be like AI for large scale data analysis this is a very common structure the very large analysis involves different components and agents will take chunks of that data and process them separately ultimately at the end merging everything together and finally there's asynchronous multi-agent systems this is when agents execute tax independently and at different times this is a system that's proven to handle uncertain conditions better than sequential or parallel approaches an example of this would be something like an AI powered cyber security threat detection you got agent one that's monitoring Network traffic in real time agent two that's monitoring suspicious usage patterns and agent three that's just randomly sampling and testing out different use cases when any of these agents picked up something anomalous they would flag it and then other things would happen after that this type of AC synchronous design pattern is especially helpful for anything that requires real-time monitoring or self-healing systems and finally to put them all together you can actually have these different systems and then link up these systems themselves and this is called a float this can result in really complex and interesting processing and results but the note to make here is that as you increase the complexity of these systems you're also basically increasing the amount of chaos that's within it as well since you don't actually have like Direct access to these agents right like you can provide them with feedback and there's ways of doing that but as you add on more and more complexity there's more things and more moving parts that are kind of just like interacting with each other it's actually pretty similar to how human companies work right the bigger your company becomes the more chaotic it starts becoming as well and the more emphasis you need to place on like hierarchies and different you know organization structures I don't know this for sure but if I were to bet I do think a lot of research that people do into systems like human systems and companies probably also comes into play for multi-agent AI systems too for the rest of the course they basically go through different implementations and examples for these different multi- aai agent systems so instead of going through all of these examples I'm just going to link in the description some of these notebooks where you can use code to implement these systems using crew AI but do not worry if you're not a coder where you're just not interested in coding I'm actually going to now show you a way of creating these multi- aai agent systems completely with a no code tool called n8n robot building sequence activated I'm so glad we tried out our new Android building device instead of using that old dinosaur some of you guys may have heard of make.com which people also use to make these multi- aai agent systems um but na an is actually better for doing this specifically credit here to David Andre's 40-minute tutorial which is what I follow and adapted to create my own AI assistant this is a telegram based AI assistant that's able to communicate with you and help you prioritize your task by accessing your Google calendars and it can also create calendar events for you so you can go on Telegram and talk to Inky bot which is the assistant's name and say what do I need to do today and it tells me that today is February 5th 2025 and I have to film this video and the time is from 12:00 p.m. until 400 p.m. in Hong Kong and it also asked me to list what are my other priorities for today so that it can come up with a list of tasks and prioritize it for me so I'm just telling that filming is my greatest priority and have these other things so it's able to prioritize and put in sequence my other tasks as as well as actually schedule calendar events corresponding to these specific task okay so the way that this flow works is first you have the telegram trigger so this is when I send a message to Inky bot and from there there's a switch um this is because it can take both text and voice input so if it's text input you would just directly take that information and feed it into the AI agent but if it's voice input we first get telegram to get the file send it to open AI to transcribe the file and then send the text information to the AI agent as well now the AI agent here is the interesting part remember tired alpacas make tea the task is taking the user's query asking about what needs to be done for today the answer is a prioritized to-do list as well as scheduled events into Google Calendar if needed the model we're using here is open AI GPT 40 mini but you can also change that out for whatever other model that you want as well like Claud Gemini llama deep seek whatever you like and finally it has two different tools the first tool is the get calendar events so it's able to read the Google calendar and see what events there are for the day it can also create calendar events so when the user wants to add other events into the list it can then go and actually create these events on the Google Calendar yeah and then it would be able to communicate through telegram with the user until it comes up with a list that the user is happy about they can also do things like check off the list plan ahead look at what happened in the past a lot of other things as well as you can see just the single agent the super simple work flow can already produce really cool results so think about adding other agents there other functionalities it's really really cool what you can do with this and it's totally no code which is crazy all right final section is on the opportunities for AI agents I watched a lot of YouTube videos and read a lot of Articles mostly for this section and the biggest takeaway that I got from this like assuming you want to be building something thing using AI agents something that is useful for other people you're building up a business is from this why combinator video where they say that for every SAS or software as a service company there will be a corresponding AI agent company let me just like repeat that because this is like huge guidance in terms of what to build for every software as a service company like all the software service companies that we see today there will be a corresponding AI agent version of that so if you don't know what to build or what to do right now and you want to play around with a agents just literally take a SAS company and then think about how do I make that into an AI agent company just ask chachu BT what are some top SAS companies says Adobe Microsoft Salesforce Shopify link tree canva Squarespace and on and on and on and on there are so many literally every company that is a sass unicorn you could imagine there's a vertical AI unicorn equivalent I really think that piece of advice is literal gold let me know in the comments if there's a specific AI agent that you're interested in building or an AI agent business all right we have come to the end of this video thank you so much for watching through it as promised here is a little assessment if you can answer all these questions then congratulations you can consider yourself educated on AI agents let me know in the comments what other topics whether that's like AI topics or other topics is fine as well that you want me to do a deep dive into all right thank you all so much for watching and I will see you guys in the next video where live stream\""
            ],
            "application/vnd.google.colaboratory.intrinsic+json": {
              "type": "string"
            }
          },
          "metadata": {},
          "execution_count": 39
        }
      ]
    },
    {
      "cell_type": "code",
      "source": [
        "from rpunct import RestorePuncts\n",
        "rpunct = RestorePuncts()"
      ],
      "metadata": {
        "id": "xVKiahSrq1dl"
      },
      "execution_count": 40,
      "outputs": []
    },
    {
      "cell_type": "code",
      "source": [
        "import openai\n",
        "\n",
        "import getpass\n",
        "import os\n",
        "\n",
        "if \"openai_api_key\" not in os.environ:\n",
        "  os.environ[\"openai_api_key\"] = getpass.getpass(\"OpenAI API Key:\")"
      ],
      "metadata": {
        "id": "lCm63C4Os6s7"
      },
      "execution_count": 41,
      "outputs": []
    },
    {
      "cell_type": "code",
      "source": [
        "prompt = f'\"Summarize this text: \\ntext = \"{transcipt_join}\"'\n",
        "prompt"
      ],
      "metadata": {
        "colab": {
          "base_uri": "https://localhost:8080/",
          "height": 105
        },
        "id": "GuSAOxKTs97e",
        "outputId": "54855892-b5f5-4ec3-baed-e5c336c32f1b"
      },
      "execution_count": 42,
      "outputs": [
        {
          "output_type": "execute_result",
          "data": {
            "text/plain": [
              "'\"Summarize this text: \\ntext = \"I learned about AI agents for you so here\\'s the cliffnotes version to save you weeks of me learning about this there\\'s not actually one course that just fully nicely covers everything so I did three courses wrote a bunch of papers and watch a lot of YouTube videos as well and of course actually made my own agents too my notes themselves are over 200 pages long but as per usual it is not enough just to listen to me talk about stuff so at the end of the video there is a little assessment which if you can answer these questions then congratulations you are now educated about AI agents now without further Ado let\\'s get going a portion of this video is sponsored by HubSpot here\\'s the outline first we\\'re going to talk about what even are AI agents it is such a hyped up term now then we\\'ll do a crash course on specifically multi-agent architectures it\\'s really interesting developing field to make this actually all practical I\\'m going to then show you how to create an AI agent workflow which does not require any code I was honestly so shocked by how powerful and easy to use as well these workflows are then finally for those of you who are interested in getting into the field or even building your own AI agents for your businesses I will leave you with a piece of advice that when I heard it I was like holy so stay tuned for that at the end all right so let\\'s first Define agents okay so believe it or not one of the most difficult things from this entire Deep dive into AI agents for me was just the actual definition of an AI agent probably because it\\'s just such a new field and people are still trying to figure out what even it is and like how it works works so before watching this video if you were also confused I promise you it is not you let me walk you through this the easiest way to First Define ai agents is the given example of what is not an AI agent what is definitely not an AI agent is if you just ask an AI to do something for you otherwise known as one-hot prompting by the way if you\\'re interested in leveling up your prompt engineering skills I did a video over here where I distilled down Google\\'s 9-hour prompt engineering course into only 20 minutes so check it out anyways okay so what is definitely not an AI agent is if you\\'re just asking AI to do something directly for example if you just go to chat gbt and write please write out an essay on topic X from start to finish in one go you\\'ll still get a response and it\\'ll still be like coherent and on topic but it\\'ll probably also be quite vague and probably not what you were looking for on the other hand if you use an agentic workflow that will significantly improve your results and what that would look like is to break down that overarching task into different steps like first maybe writing an outline for the topic consider if you may need to do some web research then you might write your first draft consider what part of that draft may need more revision or more research revise your Draft before ultimately coming up with the essay a non- agentic workflow is just from start to finish and you\\'re done while an agentic workflow is more a circular iterative process you think and you do research come up with an output and then you revise that and then you think and you do some more research come up with an output and you keep doing that until you get to your final result non agentic workflow straight up and down a gentic workflow circular okay so now let\\'s add in a little bit of complexity you got your non- agentic workflow then you got your agentic workflow then you have a third level which is a truly autonomous AI agent this is when an AI can completely independently figure out the exact steps which tools to use go through that circular process of revising things by itself to finally come up with an output this is the level that we want our AI agents to become but currently as of the time of this filming at least we are not quite there yet we\\'re still focusing on this second level of agentic workflows where there\\'s certain agentic components to it but it\\'s not fully autonomous yet but honestly with speeda AI is developing who knows maybe in like 2 months that\\'s going to happen we\\'ll see Jarvis you there that\\'s your Serv according to anging who\\'s kind of like the Superstar of the AI World there are four massivly accepted agentic design patterns the first and simplest pattern is called reflection where you\\'re simply asking an AI to more carefully look through its own results for example you might ask an AI to please write the code in order to complete you know a specific task and the AI is going to Output some code but you\\'re not going to stop there you\\'re going to ask the AI to please now check the code carefully for correctness style and efficiency and give constructive criticism for how to improve it the AI could look over its own code and then maybe find out that it made it a mistake on line five and in which case they can actually fix that line of code and continue improving its own output you\\'re sort of helping that ai go through that circular agentic process to improve its output a very simple extension of this is instead of you being the one to help the AI figure this out you can actually create another Ai and have the other AI prompt the original AI to go through its own code and go through the reflection process so this is called a multi-agent framework and that\\'s something that we will talk about a little bit later in the video and it\\'s like a really really interesting field next up is tool use by giving an AI the ability to use tools you can help the AI better break down task and execute specific parts of the task for example if you\\'re interested in buying a new coffee machine you can ask Nai what is the best coffee maker according to reviewers now if you give your AI the ability to search the internet like a web search tool you\\'re allowing it to add in the steps of actually searching different reviews on the internet compiling them together before summarizing its findings which you would get a much better result than if you just ask it to directly come up with an answer another powerful commonly used tool is the code execution tool this allows your AI to actually create and to build build things like build out a website or calculate things things that involve numbers and math for example you can ask the AI if I invest $100 at compound 7% interest for 12 years what do I have at the end your AI then can use this code execution tool to come up with the answer for you there are lots and lots of different tools that you can equip your AI with including object detection web generation ability to access your emails and your calendars to schedule events for you tool use is a very powerful agentic design pattern next up is planning and reasoning this is when you can give an AI a certain task that you want done and it\\'s able to figure out what are the exact steps to accomplish these and what are the necessary tools that it needs in order to accomplish these steps for example you can ask an AI please generate an image where a girl is reading a book and her pose is the same as the boy in the image example. JPEG then please describe the new image with your voice with this agentic framework it\\'s able to First Look at the image access a specific model to determine the pose of the boy in the image use another model to convert that specific pose to an image of a girl and another model to translate the image to text and finally a text to speech model to describe in audio what it is that the girl is doing a girl is sitting on a bed reading a book now finally we have multi-agent systems this is when instead of just having a single large language model a single AI do a certain thing you actually want to prompt different large language models to have different rules so the question you might have is like why can\\'t you just have one Ai and just tell it to do everything right and the reason for this is that AI in this sense is actually quite similar to humans just like if you\\'re trying to complete a project it\\'s better to have a team of humans that all have their own specialized rules to come together to complete the project as opposed to just have like one person trying to juggle and handle everything same thing for AI there\\'s research that shows by having this multi-agent workflow the results of the final product is generally better than just asking one AI to do all of it okay so here\\'s a pneumonic in case you can\\'t remember what the four agentic design patterns are just think about red turtles paint murals reflection tool use planning and multi-agents hint this will help in the little assessment at the end of this video okay so to make this all a little bit more concrete anding also showed us some tasks like some really cool tasks that were able to be accomplished by using these agentic design patterns for example like with this tool that has a agentic workflow built into it you can take an image of this soccer game and be able to identify Y and count number of players on the field you can also do stuff with video by prompting it given a video split the video into clips of 5 Seconds and find a clip where the goal is being scored display the frames associated with the goal that is pretty cool just thinking about the use cases you can do with so much video and image data that is currently untapped some other examples of a gentic systems that have produced really good results include AI powered research assistants that\\'s able to research specific topics AI writers that can then write down these topics coders who can create software and personal assistance which I will actually show you how to build one later in the video as we see today AI agents and agentic workflows just like any other AI tool has a large component of prompt engineering it just shows that prompt engineering really is one of the highest Roi skills that you can learn today so if you\\'re interested in leveling up your prompting skills I highly recommend that you check out this free prompt engineering Quickstar guide that I made with HubSpot it includes a step-by-step guide for creating great prompts and also tips to get better results my favorite part is that for all the examples there\\'s a flow from bad to good to Great prompts to show how you can improve a prompt if you\\'re able to go through this process and create great prompts you would just become so much more productive and get so much more out of AI so if you\\'re interested do check it out at this link over here also linked in description thank you so much Hobs spa for creating this free resource with me and for sponsoring this portion of the video next up I want to do a quick crash course on multi-agent design patterns specifically this is where the \\'s a lot of focus and really cool breakthroughs that are happening I did a couple courses the best course that I found specifically for this topic was one by crew AI in collaboration with deep learning AI this course by crew AI gives a really good introduction to different types of multi-agent design patterns which I\\'m going to Now cover the first building block is a single AI agent and a single AI agent has four components it needs to have a specific task and answer what it\\'s supposed to give you the model itself and tools that it has access to a nice little pneumonic here is tired alpaca\\'s mix te task answers models tools for example you can have a travel planner AI agent its task is to plan a 3-day trip to Tokyo on a budget the answer that you want is a detailed itery with locations and cost as well as hotel bookings and any tickets the AI model could be anthropic CLA for example although you can switch that out for any other models that you like as well the tools that it needs include Google Maps Skyscanner for figuring out what the ti tickets are how much they cost booking.com for Logistics and your saved credit card informations so that you can actually place these bookings task answer model tools tired alpaca\\'s mix te okay so we have our first singular unit of an agent and the simplest multi- aai agent would just be have two AI agents that work together on something each AI agent has its own programming but they\\'re working together towards something an example of this would be a writer agent who is meant to write a blog article and an editor agent who is providing feedback for the writer even say with just two agents there\\'s a couple interesting points here an agent can have its own task but an agent can also be working with another agent on a task while having its own task as well so there could be a lot of crisscross that\\'s happening and for tools agents can have their own separate tools but a task can also have a tool which is really interesting you can actually program a task to have a specific tool so that an agent can only have access to it for that task and if you have more than one agent then you have a crew hence the name crew AI now when you add in additional agents there is even more complexity and it becomes really really interesting on how agents are interacting with each other I can go on for ages about all the different configurations of Agents working together and the tools that they\\'re using but this course does give us a really nice kind of overview of the different design patterns that people have used and seem to be really helpful the first one is the sequential pattern this is the simplest when you just have one One agent do something and then it passes it on to another agent that does something else and another agent that does something else sort of like an assembly line an example it has would be AI powered document processing you can have your first agent which extracts text from scan documents that it passes on to another agent who summarizes the text then passes on to the next agent who then extracts action items and puts it into a summary and finally to a fourth agent that saves the data into a database a higher article higher AR a higher AR h two hours later higher article agent system would have a leader or manager agent that supervised multiple agents that have their own specific task these sub agents will complete their task and Report their results back to the manager agent who then compiles it all together an example of this would be writing a report for business decision-making you have your manager AI agent that receives this task and then delegates it to different sub agents sub agent one monitors and reports back market trends and it would have specialized tools for looking into these markets sub agent 2 could be monitoring internal customer sentiment so has access to the internal databases to see what kind of feedback customers are giving while sub agent 3 tracks internal metrics across the company so it\\'s understanding how this specific product is interplaying with other products within the company now after all these agents do their job they would all report back to the manager agent who\\'s able to combine everything together and it might actually pass this along to another agent say like a decision making agent who may aggregate different insights and professionally put it into a report and come up with a ultimate business decision next up is the hybrid system this combines different sequential and hierarchical structures together agents can collaborate top down as well as sequentially an example of this would be in autonomous vehicles at the top level you might have a AI agent that plans the overall route and traffic strategy for an autonomous vehicle then you have the sub agents that handle things like real-time Sensor Fusion collision avoidance and road condition analysis but it\\'s not enough just to aggregate this information together and then just give it to the top level AI because you need to have a continuous feedback loop as the vehicle itself is moving and the road conditions and everything around it internally and externally is all changing as well you need to have lots of different little feedback loops between these different agents and then communicating continuously with the top level agent as well this design pattern is really common in things like robotics navigation systems and adaptive AI systems basically like in places where there\\'s lots of moving Parts there are also parallel agent Design Systems this is when you have agents working on different work streams independently agents would be handling different parts of a task simultaneously often to speed up processing an example of this would be like AI for large scale data analysis this is a very common structure the very large analysis involves different components and agents will take chunks of that data and process them separately ultimately at the end merging everything together and finally there\\'s asynchronous multi-agent systems this is when agents execute tax independently and at different times this is a system that\\'s proven to handle uncertain conditions better than sequential or parallel approaches an example of this would be something like an AI powered cyber security threat detection you got agent one that\\'s monitoring Network traffic in real time agent two that\\'s monitoring suspicious usage patterns and agent three that\\'s just randomly sampling and testing out different use cases when any of these agents picked up something anomalous they would flag it and then other things would happen after that this type of AC synchronous design pattern is especially helpful for anything that requires real-time monitoring or self-healing systems and finally to put them all together you can actually have these different systems and then link up these systems themselves and this is called a float this can result in really complex and interesting processing and results but the note to make here is that as you increase the complexity of these systems you\\'re also basically increasing the amount of chaos that\\'s within it as well since you don\\'t actually have like Direct access to these agents right like you can provide them with feedback and there\\'s ways of doing that but as you add on more and more complexity there\\'s more things and more moving parts that are kind of just like interacting with each other it\\'s actually pretty similar to how human companies work right the bigger your company becomes the more chaotic it starts becoming as well and the more emphasis you need to place on like hierarchies and different you know organization structures I don\\'t know this for sure but if I were to bet I do think a lot of research that people do into systems like human systems and companies probably also comes into play for multi-agent AI systems too for the rest of the course they basically go through different implementations and examples for these different multi- aai agent systems so instead of going through all of these examples I\\'m just going to link in the description some of these notebooks where you can use code to implement these systems using crew AI but do not worry if you\\'re not a coder where you\\'re just not interested in coding I\\'m actually going to now show you a way of creating these multi- aai agent systems completely with a no code tool called n8n robot building sequence activated I\\'m so glad we tried out our new Android building device instead of using that old dinosaur some of you guys may have heard of make.com which people also use to make these multi- aai agent systems um but na an is actually better for doing this specifically credit here to David Andre\\'s 40-minute tutorial which is what I follow and adapted to create my own AI assistant this is a telegram based AI assistant that\\'s able to communicate with you and help you prioritize your task by accessing your Google calendars and it can also create calendar events for you so you can go on Telegram and talk to Inky bot which is the assistant\\'s name and say what do I need to do today and it tells me that today is February 5th 2025 and I have to film this video and the time is from 12:00 p.m. until 400 p.m. in Hong Kong and it also asked me to list what are my other priorities for today so that it can come up with a list of tasks and prioritize it for me so I\\'m just telling that filming is my greatest priority and have these other things so it\\'s able to prioritize and put in sequence my other tasks as as well as actually schedule calendar events corresponding to these specific task okay so the way that this flow works is first you have the telegram trigger so this is when I send a message to Inky bot and from there there\\'s a switch um this is because it can take both text and voice input so if it\\'s text input you would just directly take that information and feed it into the AI agent but if it\\'s voice input we first get telegram to get the file send it to open AI to transcribe the file and then send the text information to the AI agent as well now the AI agent here is the interesting part remember tired alpacas make tea the task is taking the user\\'s query asking about what needs to be done for today the answer is a prioritized to-do list as well as scheduled events into Google Calendar if needed the model we\\'re using here is open AI GPT 40 mini but you can also change that out for whatever other model that you want as well like Claud Gemini llama deep seek whatever you like and finally it has two different tools the first tool is the get calendar events so it\\'s able to read the Google calendar and see what events there are for the day it can also create calendar events so when the user wants to add other events into the list it can then go and actually create these events on the Google Calendar yeah and then it would be able to communicate through telegram with the user until it comes up with a list that the user is happy about they can also do things like check off the list plan ahead look at what happened in the past a lot of other things as well as you can see just the single agent the super simple work flow can already produce really cool results so think about adding other agents there other functionalities it\\'s really really cool what you can do with this and it\\'s totally no code which is crazy all right final section is on the opportunities for AI agents I watched a lot of YouTube videos and read a lot of Articles mostly for this section and the biggest takeaway that I got from this like assuming you want to be building something thing using AI agents something that is useful for other people you\\'re building up a business is from this why combinator video where they say that for every SAS or software as a service company there will be a corresponding AI agent company let me just like repeat that because this is like huge guidance in terms of what to build for every software as a service company like all the software service companies that we see today there will be a corresponding AI agent version of that so if you don\\'t know what to build or what to do right now and you want to play around with a agents just literally take a SAS company and then think about how do I make that into an AI agent company just ask chachu BT what are some top SAS companies says Adobe Microsoft Salesforce Shopify link tree canva Squarespace and on and on and on and on there are so many literally every company that is a sass unicorn you could imagine there\\'s a vertical AI unicorn equivalent I really think that piece of advice is literal gold let me know in the comments if there\\'s a specific AI agent that you\\'re interested in building or an AI agent business all right we have come to the end of this video thank you so much for watching through it as promised here is a little assessment if you can answer all these questions then congratulations you can consider yourself educated on AI agents let me know in the comments what other topics whether that\\'s like AI topics or other topics is fine as well that you want me to do a deep dive into all right thank you all so much for watching and I will see you guys in the next video where live stream\"'"
            ],
            "application/vnd.google.colaboratory.intrinsic+json": {
              "type": "string"
            }
          },
          "metadata": {},
          "execution_count": 42
        }
      ]
    },
    {
      "cell_type": "code",
      "source": [
        "from openai import OpenAI\n",
        "\n",
        "client = OpenAI(\n",
        "    api_key=os.environ[\"openai_api_key\"]  # This is the default and can be omitted\n",
        ")\n",
        "\n",
        "chat_completion = client.chat.completions.create(\n",
        "    messages=[\n",
        "        {\n",
        "            \"role\": \"user\",\n",
        "            \"content\": prompt,\n",
        "        }\n",
        "    ],\n",
        "    model=\"gpt-3.5-turbo\",\n",
        "    max_tokens=256, # Maximum number of tokens in the response\n",
        "    temperature=1, # Temperature controls randomness in the response\n",
        "\n",
        ")\n"
      ],
      "metadata": {
        "id": "WmEQpFAtvD6s"
      },
      "execution_count": 43,
      "outputs": []
    },
    {
      "cell_type": "code",
      "source": [
        "print(chat_completion.choices[0].message.content)"
      ],
      "metadata": {
        "colab": {
          "base_uri": "https://localhost:8080/"
        },
        "id": "ayXyn4Lu2nbo",
        "outputId": "eee57d5b-78f3-4967-cde6-f3d8f3b48d80"
      },
      "execution_count": 44,
      "outputs": [
        {
          "output_type": "stream",
          "name": "stdout",
          "text": [
            "The text is a comprehensive deep dive into AI agents, covering topics such as defining AI agents, agentic workflows, multi-agent architectures, agentic design patterns, and opportunities for AI agents in various industries. It also includes a demonstration of creating AI agents using a no-code tool called n8n, as well as discussing the potential for AI agents to revolutionize businesses in the future. The text emphasizes the importance of prompt engineering and provides examples and practical applications of AI agents in different scenarios.\n"
          ]
        }
      ]
    }
  ]
}